{
 "cells": [
  {
   "cell_type": "code",
   "execution_count": 14,
   "metadata": {},
   "outputs": [
    {
     "name": "stderr",
     "output_type": "stream",
     "text": [
      "OpenCV: out device of bound (0-0): 1\n",
      "OpenCV: camera failed to properly initialize!\n"
     ]
    },
    {
     "ename": "error",
     "evalue": "OpenCV(4.5.5) /Users/xperience/actions-runner/_work/opencv-python/opencv-python/opencv/modules/core/src/arithm.cpp:1726: error: (-215:Assertion failed) ! _src.empty() in function 'inRange'\n",
     "output_type": "error",
     "traceback": [
      "\u001b[0;31m---------------------------------------------------------------------------\u001b[0m",
      "\u001b[0;31merror\u001b[0m                                     Traceback (most recent call last)",
      "Cell \u001b[0;32mIn[14], line 33\u001b[0m\n\u001b[1;32m     29\u001b[0m lower_bound_y \u001b[39m=\u001b[39m np\u001b[39m.\u001b[39marray([\u001b[39m20\u001b[39m, \u001b[39m100\u001b[39m, \u001b[39m100\u001b[39m])\n\u001b[1;32m     30\u001b[0m upper_bound_y \u001b[39m=\u001b[39m np\u001b[39m.\u001b[39marray([\u001b[39m40\u001b[39m, \u001b[39m255\u001b[39m, \u001b[39m255\u001b[39m])\n\u001b[0;32m---> 33\u001b[0m mask \u001b[39m=\u001b[39m cv2\u001b[39m.\u001b[39;49minRange(frame, lower_bound_m, upper_bound_m)\n\u001b[1;32m     36\u001b[0m \u001b[39m# define kernel size  \u001b[39;00m\n\u001b[1;32m     37\u001b[0m kernel \u001b[39m=\u001b[39m np\u001b[39m.\u001b[39mones((\u001b[39m7\u001b[39m,\u001b[39m7\u001b[39m),np\u001b[39m.\u001b[39muint8)\n",
      "\u001b[0;31merror\u001b[0m: OpenCV(4.5.5) /Users/xperience/actions-runner/_work/opencv-python/opencv-python/opencv/modules/core/src/arithm.cpp:1726: error: (-215:Assertion failed) ! _src.empty() in function 'inRange'\n"
     ]
    }
   ],
   "source": [
    "# TechVidvan Object detection of similar color\n",
    "\n",
    "#GOAL is to be able to check for cyan, magenta, and yellow, then decide based on the amount/size/shape of the mask detected\n",
    "# which color it is, and then from that color return like \"auto1\" or \"auto2\" or smth for parking\n",
    "\n",
    "#it doesnT FUCKING RUN\n",
    "\n",
    "import cv2\n",
    "import numpy as np\n",
    "import time \n",
    "\n",
    "cap = cv2.VideoCapture(1)\n",
    "while True:\n",
    "    ret, frame = cap.read()\n",
    "    # find the colors within the boundaries\n",
    "\n",
    "    # lower bound and upper bound for cyan\n",
    "\n",
    "    lower_bound_c = np.array([100,100,20])\n",
    "    upper_bound_c = np.array([255,255,90])\n",
    "\n",
    "    # lower and upper bound for magenta\n",
    "\n",
    "    lower_bound_m = np.array([70, 10, 70])\n",
    "    upper_bound_m = np.array([255,50,255])\n",
    "\n",
    "    # lower and upper bound for yellow\n",
    "\n",
    "    lower_bound_y = np.array([20, 100, 100])\n",
    "    upper_bound_y = np.array([40, 255, 255])\n",
    "\n",
    "\n",
    "    mask = cv2.inRange(frame, lower_bound_m, upper_bound_m)\n",
    "\n",
    "\n",
    "    # define kernel size  \n",
    "    kernel = np.ones((7,7),np.uint8)\n",
    "\n",
    "    # Remove unnecessary noise from mask\n",
    "\n",
    "    mask = cv2.morphologyEx(mask, cv2.MORPH_CLOSE, kernel)\n",
    "    mask = cv2.morphologyEx(mask, cv2.MORPH_OPEN, kernel)\n",
    "\n",
    "    # Segment only the detected f\n",
    "    segmented_img = cv2.bitwise_and(frame, frame, mask=mask)\n",
    "    # Find contours from the mask\n",
    "\n",
    "    contours, hierarchy = cv2.findContours(mask.copy(), cv2.RETR_EXTERNAL, cv2.CHAIN_APPROX_SIMPLE)\n",
    "\n",
    "    output = cv2.drawContours(segmented_img, contours, -1, (0, 255, 0), 3)\n",
    "\n",
    "    # Draw contour on original image\n",
    "\n",
    "    # Showing the output\n",
    "\n",
    "    # basically make it switch through the masks and look at each Output then return 1 2 or 3\n",
    "\n",
    "    if (cv2.waitKey(30) == 27):\n",
    "       break\n"
   ]
  }
 ],
 "metadata": {
  "kernelspec": {
   "display_name": "Python 3",
   "language": "python",
   "name": "python3"
  },
  "language_info": {
   "codemirror_mode": {
    "name": "ipython",
    "version": 3
   },
   "file_extension": ".py",
   "mimetype": "text/x-python",
   "name": "python",
   "nbconvert_exporter": "python",
   "pygments_lexer": "ipython3",
   "version": "3.11.1 (main, Dec 23 2022, 09:28:24) [Clang 14.0.0 (clang-1400.0.29.202)]"
  },
  "orig_nbformat": 4,
  "vscode": {
   "interpreter": {
    "hash": "5c7b89af1651d0b8571dde13640ecdccf7d5a6204171d6ab33e7c296e100e08a"
   }
  }
 },
 "nbformat": 4,
 "nbformat_minor": 2
}
