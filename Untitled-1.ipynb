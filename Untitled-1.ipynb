{
 "cells": [
  {
   "cell_type": "code",
   "execution_count": 14,
   "metadata": {},
   "outputs": [
    {
     "name": "stderr",
     "output_type": "stream",
     "text": [
      "OpenCV: out device of bound (0-0): 1\n",
      "OpenCV: camera failed to properly initialize!\n"
     ]
    },
    {
     "ename": "error",
     "evalue": "OpenCV(4.5.5) /Users/xperience/actions-runner/_work/opencv-python/opencv-python/opencv/modules/core/src/arithm.cpp:1726: error: (-215:Assertion failed) ! _src.empty() in function 'inRange'\n",
     "output_type": "error",
     "traceback": [
      "\u001b[0;31m---------------------------------------------------------------------------\u001b[0m",
      "\u001b[0;31merror\u001b[0m                                     Traceback (most recent call last)",
      "Cell \u001b[0;32mIn[14], line 33\u001b[0m\n\u001b[1;32m     29\u001b[0m lower_bound_y \u001b[39m=\u001b[39m np\u001b[39m.\u001b[39marray([\u001b[39m20\u001b[39m, \u001b[39m100\u001b[39m, \u001b[39m100\u001b[39m])\n\u001b[1;32m     30\u001b[0m upper_bound_y \u001b[39m=\u001b[39m np\u001b[39m.\u001b[39marray([\u001b[39m40\u001b[39m, \u001b[39m255\u001b[39m, \u001b[39m255\u001b[39m])\n\u001b[0;32m---> 33\u001b[0m mask \u001b[39m=\u001b[39m cv2\u001b[39m.\u001b[39;49minRange(frame, lower_bound_m, upper_bound_m)\n\u001b[1;32m     36\u001b[0m \u001b[39m# define kernel size  \u001b[39;00m\n\u001b[1;32m     37\u001b[0m kernel \u001b[39m=\u001b[39m np\u001b[39m.\u001b[39mones((\u001b[39m7\u001b[39m,\u001b[39m7\u001b[39m),np\u001b[39m.\u001b[39muint8)\n",
      "\u001b[0;31merror\u001b[0m: OpenCV(4.5.5) /Users/xperience/actions-runner/_work/opencv-python/opencv-python/opencv/modules/core/src/arithm.cpp:1726: error: (-215:Assertion failed) ! _src.empty() in function 'inRange'\n"
     ]
    }
   ],
   "source": [
    "# TechVidvan Object detection of similar color\n",
    "\n",
    "#GOAL is to be able to check for cyan, magenta, and yellow, then decide based on the amount/size/shape of the mask detected\n",
    "# which color it is, and then from that color return like \"auto1\" or \"auto2\" or smth for parking\n",
    "\n",
    "#it doesnT FUCKING RUN\n",
    "\n",
    "import cv2\n",
    "import numpy as np\n",
    "import time \n",
    "\n",
    "cap = cv2.VideoCapture(1)\n",
    "while True:\n",
    "    ret, frame = cap.read()\n",
    "    # find the colors within the boundaries\n",
    "\n",
    "    # lower bound and upper bound for cyan\n",
    "\n",
    "    lower_bound_c = np.array([100,100,20])\n",
    "    upper_bound_c = np.array([255,255,90])\n",
    "\n",
    "    # lower and upper bound for magenta\n",
    "\n",
    "    lower_bound_m = np.array([70, 10, 70])\n",
    "    upper_bound_m = np.array([255,50,255])\n",
    "\n",
    "    # lower and upper bound for yellow\n",
    "\n",
    "    lower_bound_y = np.array([20, 100, 100])\n",
    "    upper_bound_y = np.array([40, 255, 255])\n",
    "\n",
    "\n",
    "    mask = cv2.inRange(frame, lower_bound_m, upper_bound_m)\n",
    "\n",
    "\n",
    "    # define kernel size  \n",
    "    kernel = np.ones((7,7),np.uint8)\n",
    "\n",
    "    # Remove unnecessary noise from mask\n",
    "\n",
    "    mask = cv2.morphologyEx(mask, cv2.MORPH_CLOSE, kernel)\n",
    "    mask = cv2.morphologyEx(mask, cv2.MORPH_OPEN, kernel)\n",
    "\n",
    "    # Segment only the detected f\n",
    "    segmented_img = cv2.bitwise_and(frame, frame, mask=mask)\n",
    "    # Find contours from the mask\n",
    "\n",
    "    contours, hierarchy = cv2.findContours(mask.copy(), cv2.RETR_EXTERNAL, cv2.CHAIN_APPROX_SIMPLE)\n",
    "\n",
    "    output = cv2.drawContours(segmented_img, contours, -1, (0, 255, 0), 3)\n",
    "\n",
    "    # Draw contour on original image\n",
    "\n",
    "    # Showing the output\n",
    "\n",
    "    # basically make it switch through the masks and look at each Output then return 1 2 or 3\n",
    "\n",
    "    if (cv2.waitKey(30) == 27):\n",
    "       break\n"
   ]
  },
  {
   "cell_type": "code",
   "execution_count": null,
   "metadata": {},
   "outputs": [],
   "source": [
    "import cv2"
   ]
  },
  {
   "cell_type": "code",
   "execution_count": null,
   "metadata": {},
   "outputs": [
    {
     "ename": "",
     "evalue": "",
     "output_type": "error",
     "traceback": [
      "\u001b[1;31mFailed to start the Kernel. \n",
      "\u001b[1;31mJupyter server crashed. Unable to connect. \n",
      "\u001b[1;31mError code from Jupyter: 1\n",
      "\u001b[1;31musage: jupyter.py [-h] [--version] [--config-dir] [--data-dir] [--runtime-dir]\n",
      "\u001b[1;31m                  [--paths] [--json] [--debug]\n",
      "\u001b[1;31m                  [subcommand]\n",
      "\u001b[1;31m\n",
      "\u001b[1;31mJupyter: Interactive Computing\n",
      "\u001b[1;31m\n",
      "\u001b[1;31mpositional arguments:\n",
      "\u001b[1;31m  subcommand     the subcommand to launch\n",
      "\u001b[1;31m\n",
      "\u001b[1;31moptions:\n",
      "\u001b[1;31m  -h, --help     show this help message and exit\n",
      "\u001b[1;31m  --version      show the versions of core jupyter packages and exit\n",
      "\u001b[1;31m  --config-dir   show Jupyter config dir\n",
      "\u001b[1;31m  --data-dir     show Jupyter data dir\n",
      "\u001b[1;31m  --runtime-dir  show Jupyter runtime dir\n",
      "\u001b[1;31m  --paths        show all Jupyter paths. Add --json for machine-readable\n",
      "\u001b[1;31m                 format.\n",
      "\u001b[1;31m  --json         output paths as machine-readable json\n",
      "\u001b[1;31m  --debug        output debug information about paths\n",
      "\u001b[1;31m\n",
      "\u001b[1;31mAvailable subcommands:\n",
      "\u001b[1;31m\n",
      "\u001b[1;31mJupyter command `jupyter-notebook` not found. \n",
      "\u001b[1;31mView Jupyter <a href='command:jupyter.viewOutput'>log</a> for further details."
     ]
    }
   ],
   "source": [
    "import pyautogui\n",
    "\n",
    "img = cv2.VideoCapture(2)\n",
    "\n",
    "gray = cv2.cvtColor(img, cv2.COLOR_BGR2GRAY)\n",
    "\n",
    "# apply thresholding to convert grayscale to binary image\n",
    "ret,thresh = cv2.threshold(gray,150,255,0)\n",
    "\n",
    "# find the contours\n",
    "contours,hierarchy = cv2.findContours(thresh, cv2.RETR_TREE,cv2.CHAIN_APPROX_SIMPLE)\n",
    "print(\"Number of objects detected:\", len(contours))\n",
    "\n",
    "# define function to compute aspect ratio\n",
    "def aspect_ratio(cnt):\n",
    "   x, y, w, h = cv2.boundingRect(cnt)\n",
    "   ratio = float(w)/h\n",
    "   return ratio\n",
    "\n",
    "# select first contour\n",
    "cnt = contours[0]\n",
    "\n",
    "# find the aspect ratio\n",
    "ar = aspect_ratio(cnt)\n",
    "\n",
    "# round it to two decimal points\n",
    "ar = round(ar, 2)\n",
    "\n",
    "# draw contours\n",
    "cv2.drawContours(img,[cnt],0,(0,255,0),2)\n",
    "\n",
    "# draw bounding rectangle\n",
    "x,y,w,h = cv2.boundingRect(cnt)\n",
    "cv2.rectangle(img,(x,y),(x+w,y+h),(255,0,0),2)\n",
    "\n",
    "# put text on the image\n",
    "cv2.putText(img, f'Aspect Ratio={ar}', (x, y), cv2.FONT_HERSHEY_SIMPLEX, 0.6, (255, 255, 255), 2)\n",
    "print(f\"Aspect Ratio of object 1 =\", ar)\n",
    "cv2.imshow(\"Aspect Ratio\", img)\n",
    "cv2.waitKey(0)\n",
    "cv2.destroyAllWindows()"
   ]
  }
 ],
 "metadata": {
  "kernelspec": {
   "display_name": "Python 3",
   "language": "python",
   "name": "python3"
  },
  "language_info": {
   "codemirror_mode": {
    "name": "ipython",
    "version": 3
   },
   "file_extension": ".py",
   "mimetype": "text/x-python",
   "name": "python",
   "nbconvert_exporter": "python",
   "pygments_lexer": "ipython3",
   "version": "3.11.1"
  },
  "orig_nbformat": 4,
  "vscode": {
   "interpreter": {
    "hash": "5c7b89af1651d0b8571dde13640ecdccf7d5a6204171d6ab33e7c296e100e08a"
   }
  }
 },
 "nbformat": 4,
 "nbformat_minor": 2
}
